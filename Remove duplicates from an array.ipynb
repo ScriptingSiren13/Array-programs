{
 "cells": [
  {
   "cell_type": "markdown",
   "id": "41a1d720-e365-49aa-9bdf-6002597d9eea",
   "metadata": {},
   "source": [
    "<h3 style=\"color:#DE006F\">FOR A PREDEFINED ARRAY</h3>"
   ]
  },
  {
   "cell_type": "code",
   "execution_count": 2,
   "id": "891ad258-f3c5-4957-aaa3-f27658c0d937",
   "metadata": {},
   "outputs": [
    {
     "name": "stdout",
     "output_type": "stream",
     "text": [
      "[1, 3, 5, 2]\n"
     ]
    }
   ],
   "source": [
    "def remove_dupli(arr):\n",
    "    if not arr:\n",
    "        return []\n",
    "    result=[arr[0]]\n",
    "    for i in range(1, len(arr)):\n",
    "        if arr[i] != arr[i-1]:\n",
    "            result.append(arr[i])\n",
    "    return result\n",
    "arr=[1, 1, 3, 5, 2, 2]\n",
    "print(remove_dupli(arr))"
   ]
  },
  {
   "cell_type": "markdown",
   "id": "e7085b41-5019-4918-8180-6e451ad6601b",
   "metadata": {},
   "source": [
    "<h3 style=\"color:#DE006F\">TAKING THE ARRAY ELEMENTS FROM THE USER:</h3>"
   ]
  },
  {
   "cell_type": "code",
   "execution_count": 13,
   "id": "a370dd89-de5b-415b-9bba-60178a50b5f7",
   "metadata": {},
   "outputs": [
    {
     "name": "stdin",
     "output_type": "stream",
     "text": [
      "enter the elements seperated by spaces 1 3 3 8 8 5 6 \n"
     ]
    },
    {
     "name": "stdout",
     "output_type": "stream",
     "text": [
      "[1, 3, 8, 5, 6]\n"
     ]
    }
   ],
   "source": [
    "def remove_dupli(arr):\n",
    "    if not arr:\n",
    "         return [];\n",
    "    result=[arr[0]]\n",
    "    for i in range(1, len(arr)):\n",
    "        if arr[i] != arr[i-1]:\n",
    "            result.append(arr[i])\n",
    "    return result\n",
    "\n",
    "use_in=input('enter the elements seperated by spaces');\n",
    "arr=list(map(int,use_in.split()))\n",
    "print(remove_dupli(arr))\n",
    "    "
   ]
  },
  {
   "cell_type": "code",
   "execution_count": null,
   "id": "bb9eb13f-e93e-4853-a4bb-0fe5d01e21c9",
   "metadata": {},
   "outputs": [],
   "source": []
  }
 ],
 "metadata": {
  "kernelspec": {
   "display_name": "Python 3 (ipykernel)",
   "language": "python",
   "name": "python3"
  },
  "language_info": {
   "codemirror_mode": {
    "name": "ipython",
    "version": 3
   },
   "file_extension": ".py",
   "mimetype": "text/x-python",
   "name": "python",
   "nbconvert_exporter": "python",
   "pygments_lexer": "ipython3",
   "version": "3.12.4"
  }
 },
 "nbformat": 4,
 "nbformat_minor": 5
}
