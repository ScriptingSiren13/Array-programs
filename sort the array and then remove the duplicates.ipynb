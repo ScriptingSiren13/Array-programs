{
 "cells": [
  {
   "cell_type": "markdown",
   "id": "df773f8d-84e6-4789-ac40-6c10cabc77b8",
   "metadata": {},
   "source": [
    "<h3 style=\"color:#DE006F\">FOR A PREDEFINED ARRAY</h3>"
   ]
  },
  {
   "cell_type": "code",
   "execution_count": 1,
   "id": "de5c10a1-8648-4650-a23e-1c06157b98ae",
   "metadata": {},
   "outputs": [
    {
     "name": "stdout",
     "output_type": "stream",
     "text": [
      "[1, 1, 1, 2, 2, 3, 7, 7, 9]\n",
      "[1, 2, 3, 7, 9]\n"
     ]
    }
   ],
   "source": [
    "def sort_arr(arr):\n",
    "    n=len(arr)\n",
    "    for i in range(n):\n",
    "        for j in range(n-i-1):\n",
    "            if arr[j] > arr[j+1]:\n",
    "                arr[j], arr[j+1]= arr[j+1],arr[j]\n",
    "    return arr\n",
    "\n",
    "def remove_dupli(arr):\n",
    "    if not arr:\n",
    "        return []\n",
    "    result=[arr[0]]\n",
    "    for i in range(1, len(arr)):\n",
    "        if arr[i] != arr[i-1]:\n",
    "             result.append(arr[i])\n",
    "       \n",
    "    return result\n",
    "\n",
    "arr=[3,7,2,9,1,2,1,1,7]\n",
    "print(sort_arr(arr))\n",
    "print(remove_dupli(arr))"
   ]
  },
  {
   "cell_type": "markdown",
   "id": "8b15f126-e4e9-4759-9248-3de572ee0453",
   "metadata": {},
   "source": [
    "<h3 style=\"color:#DE006F\">TAKING THE ARRAY ELEMENTS FROM THE USER:</h3>"
   ]
  },
  {
   "cell_type": "code",
   "execution_count": 6,
   "id": "f5ca1cbd-9354-4152-ac16-fd45fd387132",
   "metadata": {},
   "outputs": [
    {
     "name": "stdin",
     "output_type": "stream",
     "text": [
      "enter the elements seperated by spaces 6 4 5 2 8 2 8 \n"
     ]
    },
    {
     "name": "stdout",
     "output_type": "stream",
     "text": [
      "[2, 2, 4, 5, 6, 8, 8]\n",
      "[2, 4, 5, 6, 8]\n"
     ]
    }
   ],
   "source": [
    "def sort_arr(arr):\n",
    "    n=len(arr);\n",
    "    for i in  range(n):\n",
    "        for j in range(n-i-1):\n",
    "            if arr[j] > arr[j+1]:\n",
    "                arr[j],arr[j+1]=arr[j+1],arr[j];\n",
    "    return arr\n",
    "\n",
    "def remove_dupli(arr):\n",
    "    if not arr:\n",
    "        return [];\n",
    "    result=[arr[0]];\n",
    "    for i in range(1,len(arr)):\n",
    "        if arr[i] != arr[i-1]:\n",
    "            result.append(arr[i])\n",
    "    return result\n",
    "\n",
    "user_input=input('enter the elements seperated by spaces')\n",
    "arr=list(map(int,user_input.split()))\n",
    "\n",
    "print(sort_arr(arr))\n",
    "print(remove_dupli(arr))\n",
    "    "
   ]
  },
  {
   "cell_type": "code",
   "execution_count": null,
   "id": "be03e961-bd03-4616-bc4e-adc41871c59d",
   "metadata": {},
   "outputs": [],
   "source": []
  }
 ],
 "metadata": {
  "kernelspec": {
   "display_name": "Python 3 (ipykernel)",
   "language": "python",
   "name": "python3"
  },
  "language_info": {
   "codemirror_mode": {
    "name": "ipython",
    "version": 3
   },
   "file_extension": ".py",
   "mimetype": "text/x-python",
   "name": "python",
   "nbconvert_exporter": "python",
   "pygments_lexer": "ipython3",
   "version": "3.12.4"
  }
 },
 "nbformat": 4,
 "nbformat_minor": 5
}
