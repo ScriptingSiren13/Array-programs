{
 "cells": [
  {
   "cell_type": "markdown",
   "id": "fe1c1936-4de3-459d-897b-6bbcc6a9a539",
   "metadata": {},
   "source": [
    "<h2 style=\"color:#DE006F\">FOR A PREDEFINED ARRAY</h3>"
   ]
  },
  {
   "cell_type": "code",
   "execution_count": 2,
   "id": "e63fa59d-b58e-462e-9884-38d3d8d337a8",
   "metadata": {},
   "outputs": [
    {
     "name": "stdout",
     "output_type": "stream",
     "text": [
      "[7, 4, 1, 2, 0, 0]\n"
     ]
    }
   ],
   "source": [
    "def move_zero(arr):\n",
    "    index=0;\n",
    "    for i in range(len(arr)):\n",
    "        if arr[i] != 0:\n",
    "            arr[index],arr[i]= arr[i],arr[index];\n",
    "            index+=1\n",
    "    return arr;\n",
    "\n",
    "arr=[7, 4, 0, 1, 0, 2]\n",
    "print(move_zero(arr))"
   ]
  },
  {
   "cell_type": "markdown",
   "id": "f741524a-726e-4648-94de-9ac50861736a",
   "metadata": {},
   "source": [
    "<h2 style=\"color:#DE006F\">TAKING THE ARRAY ELEMENTS FROM THE USER:</h3>"
   ]
  },
  {
   "cell_type": "code",
   "execution_count": 5,
   "id": "b3713222-1c84-4803-9203-b015e1d0c00b",
   "metadata": {},
   "outputs": [
    {
     "name": "stdin",
     "output_type": "stream",
     "text": [
      "enter the elements seperated by a space 7 4 0 1 0 2 7 0 0 3\n"
     ]
    },
    {
     "name": "stdout",
     "output_type": "stream",
     "text": [
      "[7, 4, 1, 2, 7, 3, 0, 0, 0, 0]\n"
     ]
    }
   ],
   "source": [
    "def move_zero(arr):\n",
    "    index=0;\n",
    "    for i in range(len(arr)):\n",
    "        if arr[i]!=0:\n",
    "            arr[index],arr[i]=arr[i],arr[index];\n",
    "            index+=1;\n",
    "    return arr;\n",
    "\n",
    "user_inp=input('enter the elements seperated by a space')\n",
    "arr=list(map(int,user_inp.split()))\n",
    "\n",
    "print(move_zero(arr))"
   ]
  },
  {
   "cell_type": "code",
   "execution_count": null,
   "id": "98127377-ce0d-4308-b4a7-a4bd5bbb0768",
   "metadata": {},
   "outputs": [],
   "source": []
  }
 ],
 "metadata": {
  "kernelspec": {
   "display_name": "Python 3 (ipykernel)",
   "language": "python",
   "name": "python3"
  },
  "language_info": {
   "codemirror_mode": {
    "name": "ipython",
    "version": 3
   },
   "file_extension": ".py",
   "mimetype": "text/x-python",
   "name": "python",
   "nbconvert_exporter": "python",
   "pygments_lexer": "ipython3",
   "version": "3.12.4"
  }
 },
 "nbformat": 4,
 "nbformat_minor": 5
}
