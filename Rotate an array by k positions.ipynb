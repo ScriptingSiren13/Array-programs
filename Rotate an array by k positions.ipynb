{
 "cells": [
  {
   "cell_type": "markdown",
   "id": "36b6e0fe-fa07-4d51-98d8-79e346c75117",
   "metadata": {},
   "source": [
    "<h2 style=\"color:#DE006F\">FOR A PREDEFINED ARRAY</h2>"
   ]
  },
  {
   "cell_type": "code",
   "execution_count": 11,
   "id": "96398eff-1a58-4f04-88de-5ac5f50e9185",
   "metadata": {},
   "outputs": [
    {
     "name": "stdout",
     "output_type": "stream",
     "text": [
      "[6, 5, 9, 3, 7, 1]\n"
     ]
    }
   ],
   "source": [
    "def rot_arr(arr,k):\n",
    "    n=len(arr);\n",
    "    k=k%n;   # Handle cases where k > n\n",
    "    rotated_array=arr[n-k:] + arr[:n-k];\n",
    "    return rotated_array;\n",
    "\n",
    "arr=[5,9,3,7,1,6];\n",
    "k=1;\n",
    "print(rot_arr(arr,k))"
   ]
  },
  {
   "cell_type": "markdown",
   "id": "42391f43-22cb-473b-9fb4-a9fb9d64f0b9",
   "metadata": {},
   "source": [
    "<h2 style=\"color:#DE006F\">TAKING THE ARRAY ELEMENTS FROM THE USER:</h2>"
   ]
  },
  {
   "cell_type": "code",
   "execution_count": 12,
   "id": "2ab3710d-4835-4929-9db0-9158df75a33d",
   "metadata": {},
   "outputs": [
    {
     "name": "stdin",
     "output_type": "stream",
     "text": [
      "enter the elements of the array seperated by spaces 5 9 3 7 1 6\n"
     ]
    },
    {
     "name": "stdout",
     "output_type": "stream",
     "text": [
      "[6, 5, 9, 3, 7, 1]\n"
     ]
    }
   ],
   "source": [
    "def rot_arr(arr,k):\n",
    "    n=len(arr);\n",
    "    k=k%2;\n",
    "    rotated_array=arr[n-k:] + arr[:n-k]\n",
    "    return rotated_array\n",
    "\n",
    "\n",
    "user_input=input('enter the elements of the array seperated by spaces')\n",
    "arr=list(map(int,user_input.split()))\n",
    "print(rot_arr(arr,k))"
   ]
  },
  {
   "cell_type": "code",
   "execution_count": null,
   "id": "e0f2aa0e-24f9-43dc-8f97-4e6ffcb26377",
   "metadata": {},
   "outputs": [],
   "source": [
    "\n"
   ]
  },
  {
   "cell_type": "code",
   "execution_count": null,
   "id": "dd283118-2cdb-4977-97b2-f3df60d96669",
   "metadata": {},
   "outputs": [],
   "source": []
  }
 ],
 "metadata": {
  "kernelspec": {
   "display_name": "Python 3 (ipykernel)",
   "language": "python",
   "name": "python3"
  },
  "language_info": {
   "codemirror_mode": {
    "name": "ipython",
    "version": 3
   },
   "file_extension": ".py",
   "mimetype": "text/x-python",
   "name": "python",
   "nbconvert_exporter": "python",
   "pygments_lexer": "ipython3",
   "version": "3.12.4"
  }
 },
 "nbformat": 4,
 "nbformat_minor": 5
}
